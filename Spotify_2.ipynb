{
 "cells": [
  {
   "cell_type": "markdown",
   "id": "dbdd95bb",
   "metadata": {},
   "source": [
    "\n",
    "# <font color='red'> <center> Challenge 1 - Unsupervised Learning </font>\n",
    "# <font color='red'> <center> 17/10/2025</font>\n",
    "## <font color='red'> <center> Auteurs: Astrid MARION</font>\n",
    "---  \n",
    "---\n",
    "    \n",
    "\n",
    "**The objective** of this challenge is to analyse a dataset and to applied an unsupervised learning algorithm."
   ]
  },
  {
   "cell_type": "code",
   "execution_count": 1,
   "id": "339e8905",
   "metadata": {},
   "outputs": [],
   "source": [
    "# Libraries: Standard ones\n",
    "import pandas as pd\n",
    "import matplotlib.pyplot as plt\n",
    "import numpy as np\n",
    "\n",
    "# Library for boxplots\n",
    "import seaborn as sns\n",
    "\n",
    "from sklearn.preprocessing import LabelEncoder\n",
    "from sklearn.feature_selection import VarianceThreshold \n",
    "from sklearn.decomposition import PCA\n",
    "from sklearn.preprocessing import StandardScaler\n",
    "from sklearn.cluster import KMeans\n"
   ]
  }
 ],
 "metadata": {
  "kernelspec": {
   "display_name": "base",
   "language": "python",
   "name": "python3"
  },
  "language_info": {
   "codemirror_mode": {
    "name": "ipython",
    "version": 3
   },
   "file_extension": ".py",
   "mimetype": "text/x-python",
   "name": "python",
   "nbconvert_exporter": "python",
   "pygments_lexer": "ipython3",
   "version": "3.9.12"
  }
 },
 "nbformat": 4,
 "nbformat_minor": 5
}
